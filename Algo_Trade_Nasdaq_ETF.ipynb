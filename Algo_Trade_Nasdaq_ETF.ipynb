{
  "nbformat": 4,
  "nbformat_minor": 0,
  "metadata": {
    "colab": {
      "provenance": []
    },
    "kernelspec": {
      "name": "python3",
      "display_name": "Python 3"
    },
    "language_info": {
      "name": "python"
    }
  },
  "cells": [
    {
      "cell_type": "code",
      "source": [
        "pip install dhanhq\n"
      ],
      "metadata": {
        "colab": {
          "base_uri": "https://localhost:8080/"
        },
        "id": "g1cW_zgZjg3u",
        "outputId": "3248db8f-f025-4887-ce93-4e8113f908f2"
      },
      "execution_count": null,
      "outputs": [
        {
          "output_type": "stream",
          "name": "stdout",
          "text": [
            "Collecting dhanhq\n",
            "  Downloading dhanhq-2.0.1-py3-none-any.whl.metadata (8.6 kB)\n",
            "Requirement already satisfied: pandas>=1.4.3 in /usr/local/lib/python3.10/dist-packages (from dhanhq) (2.2.2)\n",
            "Requirement already satisfied: requests>=2.28.1 in /usr/local/lib/python3.10/dist-packages (from dhanhq) (2.32.3)\n",
            "Collecting websockets>=11.0.1 (from dhanhq)\n",
            "  Downloading websockets-14.1-cp310-cp310-manylinux_2_5_x86_64.manylinux1_x86_64.manylinux_2_17_x86_64.manylinux2014_x86_64.whl.metadata (6.7 kB)\n",
            "Requirement already satisfied: pyOpenSSL>=20.0.1 in /usr/local/lib/python3.10/dist-packages (from dhanhq) (24.2.1)\n",
            "Requirement already satisfied: numpy>=1.22.4 in /usr/local/lib/python3.10/dist-packages (from pandas>=1.4.3->dhanhq) (1.26.4)\n",
            "Requirement already satisfied: python-dateutil>=2.8.2 in /usr/local/lib/python3.10/dist-packages (from pandas>=1.4.3->dhanhq) (2.8.2)\n",
            "Requirement already satisfied: pytz>=2020.1 in /usr/local/lib/python3.10/dist-packages (from pandas>=1.4.3->dhanhq) (2024.2)\n",
            "Requirement already satisfied: tzdata>=2022.7 in /usr/local/lib/python3.10/dist-packages (from pandas>=1.4.3->dhanhq) (2024.2)\n",
            "Requirement already satisfied: cryptography<44,>=41.0.5 in /usr/local/lib/python3.10/dist-packages (from pyOpenSSL>=20.0.1->dhanhq) (43.0.3)\n",
            "Requirement already satisfied: charset-normalizer<4,>=2 in /usr/local/lib/python3.10/dist-packages (from requests>=2.28.1->dhanhq) (3.4.0)\n",
            "Requirement already satisfied: idna<4,>=2.5 in /usr/local/lib/python3.10/dist-packages (from requests>=2.28.1->dhanhq) (3.10)\n",
            "Requirement already satisfied: urllib3<3,>=1.21.1 in /usr/local/lib/python3.10/dist-packages (from requests>=2.28.1->dhanhq) (2.2.3)\n",
            "Requirement already satisfied: certifi>=2017.4.17 in /usr/local/lib/python3.10/dist-packages (from requests>=2.28.1->dhanhq) (2024.8.30)\n",
            "Requirement already satisfied: cffi>=1.12 in /usr/local/lib/python3.10/dist-packages (from cryptography<44,>=41.0.5->pyOpenSSL>=20.0.1->dhanhq) (1.17.1)\n",
            "Requirement already satisfied: six>=1.5 in /usr/local/lib/python3.10/dist-packages (from python-dateutil>=2.8.2->pandas>=1.4.3->dhanhq) (1.16.0)\n",
            "Requirement already satisfied: pycparser in /usr/local/lib/python3.10/dist-packages (from cffi>=1.12->cryptography<44,>=41.0.5->pyOpenSSL>=20.0.1->dhanhq) (2.22)\n",
            "Downloading dhanhq-2.0.1-py3-none-any.whl (18 kB)\n",
            "Downloading websockets-14.1-cp310-cp310-manylinux_2_5_x86_64.manylinux1_x86_64.manylinux_2_17_x86_64.manylinux2014_x86_64.whl (168 kB)\n",
            "\u001b[2K   \u001b[90m━━━━━━━━━━━━━━━━━━━━━━━━━━━━━━━━━━━━━━━━\u001b[0m \u001b[32m168.2/168.2 kB\u001b[0m \u001b[31m3.7 MB/s\u001b[0m eta \u001b[36m0:00:00\u001b[0m\n",
            "\u001b[?25hInstalling collected packages: websockets, dhanhq\n",
            "Successfully installed dhanhq-2.0.1 websockets-14.1\n"
          ]
        }
      ]
    },
    {
      "cell_type": "code",
      "source": [
        "from dhanhq import dhanhq\n",
        "\n",
        "dhan = dhanhq(\"CLient ID \", \" API key \")\n"
      ],
      "metadata": {
        "id": "gRPYbR1ajg0u"
      },
      "execution_count": null,
      "outputs": []
    },
    {
      "cell_type": "code",
      "source": [
        "dhan"
      ],
      "metadata": {
        "colab": {
          "base_uri": "https://localhost:8080/"
        },
        "id": "MTOjV9aXjgx3",
        "outputId": "d911c941-d9df-476d-c8ee-e10b9320f8e1"
      },
      "execution_count": null,
      "outputs": [
        {
          "output_type": "execute_result",
          "data": {
            "text/plain": [
              "<dhanhq.dhanhq.dhanhq at 0x7c837200d0c0>"
            ]
          },
          "metadata": {},
          "execution_count": 3
        }
      ]
    },
    {
      "cell_type": "code",
      "source": [
        "dhan.get_holdings()\n"
      ],
      "metadata": {
        "colab": {
          "base_uri": "https://localhost:8080/"
        },
        "id": "iwDdc_TujgvM",
        "outputId": "baeee339-8415-43b4-8306-b95d46458935"
      },
      "execution_count": null,
      "outputs": [
        {
          "output_type": "execute_result",
          "data": {
            "text/plain": [
              "{'status': 'success',\n",
              " 'remarks': '',\n",
              " 'data': [{'exchange': 'ALL',\n",
              "   'tradingSymbol': 'JPPOWER',\n",
              "   'securityId': '11763',\n",
              "   'isin': 'INE351F01018',\n",
              "   'totalQty': 15,\n",
              "   'dpQty': 15,\n",
              "   't1Qty': 0,\n",
              "   'availableQty': 15,\n",
              "   'collateralQty': 0,\n",
              "   'avgCostPrice': 17.99},\n",
              "  {'exchange': 'ALL',\n",
              "   'tradingSymbol': 'NTPC',\n",
              "   'securityId': '11630',\n",
              "   'isin': 'INE733E01010',\n",
              "   'totalQty': 1,\n",
              "   'dpQty': 1,\n",
              "   't1Qty': 0,\n",
              "   'availableQty': 1,\n",
              "   'collateralQty': 0,\n",
              "   'avgCostPrice': 411.7},\n",
              "  {'exchange': 'ALL',\n",
              "   'tradingSymbol': 'METALIETF',\n",
              "   'securityId': '24861',\n",
              "   'isin': 'INF109KC19W1',\n",
              "   'totalQty': 5,\n",
              "   'dpQty': 5,\n",
              "   't1Qty': 0,\n",
              "   'availableQty': 5,\n",
              "   'collateralQty': 0,\n",
              "   'avgCostPrice': 9.05},\n",
              "  {'exchange': 'ALL',\n",
              "   'tradingSymbol': 'SETFGOLD',\n",
              "   'securityId': '17272',\n",
              "   'isin': 'INF200KA16D8',\n",
              "   'totalQty': 1,\n",
              "   'dpQty': 1,\n",
              "   't1Qty': 0,\n",
              "   'availableQty': 1,\n",
              "   'collateralQty': 0,\n",
              "   'avgCostPrice': 66.24},\n",
              "  {'exchange': 'ALL',\n",
              "   'tradingSymbol': 'GOLDBEES',\n",
              "   'securityId': '14428',\n",
              "   'isin': 'INF204KB17I5',\n",
              "   'totalQty': 5,\n",
              "   'dpQty': 5,\n",
              "   't1Qty': 0,\n",
              "   'availableQty': 5,\n",
              "   'collateralQty': 0,\n",
              "   'avgCostPrice': 63.47},\n",
              "  {'exchange': 'ALL',\n",
              "   'tradingSymbol': 'MONQ50',\n",
              "   'securityId': '7422',\n",
              "   'isin': 'INF247L01AU3',\n",
              "   'totalQty': 1,\n",
              "   'dpQty': 1,\n",
              "   't1Qty': 0,\n",
              "   'availableQty': 1,\n",
              "   'collateralQty': 0,\n",
              "   'avgCostPrice': 69.29}]}"
            ]
          },
          "metadata": {},
          "execution_count": 4
        }
      ]
    },
    {
      "cell_type": "code",
      "source": [
        "dhan.place_order(\n",
        "    tag='',\n",
        "    transaction_type=dhan.BUY,\n",
        "    exchange_segment=dhan.NSE,\n",
        "    product_type=dhan.INTRA,\n",
        "    order_type=dhan.MARKET,\n",
        "    validity='DAY',\n",
        "    security_id='7422',\n",
        "    quantity=1,\n",
        "\n",
        "    price=0,\n",
        "\n",
        ")\n",
        "\n"
      ],
      "metadata": {
        "id": "f3hrSzwnjgmi",
        "colab": {
          "base_uri": "https://localhost:8080/"
        },
        "outputId": "f8dec304-d48b-4f2b-f51e-41c550a214d3"
      },
      "execution_count": null,
      "outputs": [
        {
          "output_type": "execute_result",
          "data": {
            "text/plain": [
              "{'status': 'success',\n",
              " 'remarks': '',\n",
              " 'data': {'orderId': '9124112740302', 'orderStatus': 'TRANSIT'}}"
            ]
          },
          "metadata": {},
          "execution_count": 18
        }
      ]
    },
    {
      "cell_type": "code",
      "source": [],
      "metadata": {
        "id": "OKNQHg391rte"
      },
      "execution_count": null,
      "outputs": []
    }
  ]
}